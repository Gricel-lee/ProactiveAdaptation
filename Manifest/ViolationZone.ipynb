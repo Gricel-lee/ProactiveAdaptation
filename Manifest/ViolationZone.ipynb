{
 "cells": [
  {
   "cell_type": "markdown",
   "id": "156c4e85",
   "metadata": {},
   "source": [
    "# Violation zone"
   ]
  },
  {
   "cell_type": "code",
   "execution_count": 2,
   "id": "803279ba",
   "metadata": {},
   "outputs": [],
   "source": [
    "import pandas as pd\n",
    "import numpy as np\n",
    "import matplotlib.pyplot as plt\n",
    "import plotly.graph_objects as go\n",
    "import plotly.express as px\n",
    "import datetime as dt\n",
    "from scipy.optimize import least_squares\n",
    "\n",
    "\n",
    "def insertCol(df):\n",
    "    '''Insert empty columns to get violation info for requirements R1-R3'''\n",
    "    df.insert(len(df.columns), 'R1', '')\n",
    "    df.insert(len(df.columns), 'R2', '')\n",
    "    df.insert(len(df.columns), 'R3', '')\n",
    "    df.insert(len(df.columns), 'r1', '')\n",
    "    df.insert(len(df.columns), 'r2', '')\n",
    "    df.insert(len(df.columns), 'r3', '')\n",
    "    df.insert(len(df.columns), 'V', '')\n",
    "    return df\n",
    "\n",
    "\n",
    "def checkViolation(p1,p2,p3,p4,T1,T1F,T2,T2F,TR,T3,Pretry):\n",
    "    violation = 0\n",
    "    r1,r2,r3 =0,0,0\n",
    "    # compute R1-R3\n",
    "    R1= (p1*p2*p4)/(1-Pretry*p3)\n",
    "    R2= -1*(p1*(p3*T2-p2*T3-p3*T2F-T1-T2+T1F)+Pretry*p3*(T1F-p1*TR-p1*T1F)-T1F) / (1-Pretry*p3)\n",
    "    R3 = (p1*p2*(1-p4))/(1-Pretry*p3)\n",
    "    # check violation   (i.e., does not comply with innequalities, hence innequality symbols are flipped)\n",
    "    if R1 <= R1_bound:  violation = 1; r1=1\n",
    "    if R2 >= R2_bound:  violation = 1; r2=1\n",
    "    if R3 >= R3_bound:  violation = 1; r3=1\n",
    "    return [R1,R2,R3,r1,r2,r3,violation]\n",
    "\n",
    "\n",
    "def addViolation_lookupTable(df):\n",
    "    for index,row in df.iterrows():\n",
    "        M1 = row['M1']; M2= row['M2']; M3 = row['M3']\n",
    "        x = row['M3'] #dummy\n",
    "        #check violation\n",
    "        [R1,R2,R3,r1,r2,r3,violation] = checkViolation(p1(M1,M2,M3),p2(M1,M2,M3),p3(M1,M2,M3),p4(M1,M2,M3),T1(M1,M2,M3),\n",
    "                                                       T1F(M1,M2,M3),T2(M1,M2,M3),T2F(M1,M2,M3),TR(M1,M2,M3),T3(M1,M2,M3),pR(M1,M2,M3))\n",
    "        #add violation\n",
    "        df.loc[index,'R1'],df.loc[index,'R2'],df.loc[index,'R3'] = R1,R2,R3\n",
    "        df.loc[index,'r1'],df.loc[index,'r2'],df.loc[index,'r3'] = r1,r2,r3\n",
    "        df.loc[index,'V'] = violation\n",
    "    \n",
    "    file = 'output_with_violation.csv'\n",
    "    df.to_csv(file, index=False)\n",
    "    print('saved in ',file)\n",
    "    return df\n",
    "\n",
    "def print_results_violation(df):\n",
    "    # Sum the values in the 'Age' column\n",
    "    total_violation = df['V'].sum()\n",
    "    total = len(df['V'])\n",
    "    print(\" Total data points: {}.\\n Total data points in violation: {}.\\n Percentage in violation: {}%.\"\n",
    "          .format(total,total_violation,total_violation/total*100))\n",
    "\n",
    "def read_csv(readings_file):\n",
    "    dfM = pd.read_csv(readings_file)\n",
    "    # dfM.columns=[\"Time\",\"M1\",\"M2\",\"M3\",\"state\"]\n",
    "    #dfM = insertCol(dfM)\n",
    "    return dfM\n",
    "\n",
    "\n",
    "\n",
    "def plot_violation_lookupTable(df_HeatMap,title):\n",
    "    # Create a 3D scatter plot\n",
    "    fig = plt.figure(figsize=(8, 6))\n",
    "    ax = fig.add_subplot(111, projection='3d')\n",
    "    # Extracting columns for x, y, z coordinates\n",
    "    x = df_HeatMap['M1']\n",
    "    y = df_HeatMap['M2']\n",
    "    z = df_HeatMap['M3']\n",
    "    # Color scale based on violation\n",
    "    c = df_HeatMap['V']\n",
    "    # Scatter plot with color scale\n",
    "    scatter = ax.scatter(x, y, z, c=c, cmap='viridis')\n",
    "    # Adding colorbar\n",
    "    cbar = fig.colorbar(scatter)\n",
    "    cbar.set_label('violation')\n",
    "    # Set labels for axes\n",
    "    ax.set_xlabel('Init Light value')\n",
    "    ax.set_ylabel('Init Floor friction')\n",
    "    ax.set_zlabel('Init Object friction')\n",
    "    # Plot\n",
    "    plt.title('3D Scatter Plot with Color Scale')\n",
    "    plt.show()\n",
    "\n",
    "\n",
    "def plot3D_violation_lookupTable(df_HeatMap, title):\n",
    "    '''Interactive 3D plot'''\n",
    "    fig = go.Figure()\n",
    "    # Scatter plot with color scale\n",
    "    fig.add_trace(go.Scatter3d(\n",
    "        x=df_HeatMap['M1'],\n",
    "        y=df_HeatMap['M2'],\n",
    "        z=df_HeatMap['M3'],\n",
    "        mode='markers',\n",
    "        marker=dict(\n",
    "            size=5,\n",
    "            color=df_HeatMap['V'],  # Color scale based on violation\n",
    "            colorscale='Plasma',#'Viridis',  # You can choose different color scales\n",
    "            opacity=0.8,\n",
    "            colorbar=dict(title='Violation')  # Adding color bar with title\n",
    "    )))\n",
    "    # Set labels for axes and title\n",
    "    fig.update_layout(\n",
    "        scene=dict(\n",
    "            xaxis_title='Init Light value',\n",
    "            yaxis_title='Init Floor friction',\n",
    "            zaxis_title='Init Object friction'\n",
    "        ),\n",
    "        title=title)\n",
    "    fig.show()\n",
    "\n",
    "        "
   ]
  },
  {
   "cell_type": "markdown",
   "id": "0690fdc3",
   "metadata": {},
   "source": [
    "Add safe-violation zone boundary and edge (out of ODD) "
   ]
  },
  {
   "cell_type": "code",
   "execution_count": 3,
   "id": "7b53eb21",
   "metadata": {},
   "outputs": [
    {
     "ename": "SyntaxError",
     "evalue": "invalid syntax (177134984.py, line 3)",
     "output_type": "error",
     "traceback": [
      "\u001b[0;36m  File \u001b[0;32m\"/var/folders/kp/zbb00z610431t7dw_xxf4fnw0000gn/T/ipykernel_31522/177134984.py\"\u001b[0;36m, line \u001b[0;32m3\u001b[0m\n\u001b[0;31m    if R1\u001b[0m\n\u001b[0m         ^\u001b[0m\n\u001b[0;31mSyntaxError\u001b[0m\u001b[0;31m:\u001b[0m invalid syntax\n"
     ]
    }
   ],
   "source": [
    "def checkEdge(R1,R2,R3):\n",
    "    '''Check if on edge of ODD (in save zone)'''\n",
    "    if R1\n",
    "\n",
    "def checkSafeBoundary():\n",
    "\n",
    "\n",
    "def addBoundaryEdge_lookupTable(df):\n",
    "    for index,row in df.iterrows():\n",
    "        M1= row['M1']; M2= row['M2']; M3= row['M3']\n",
    "\n",
    "        R1,R2,R3 = df.loc[index,'R1'],df.loc[index,'R2'],df.loc[index,'R3']\n",
    "        \n",
    "    #     x= row['M3'] #dummy\n",
    "    #     # check only on safe zone\n",
    "    #     if row['V']==0:\n",
    "    #         #check edge\n",
    "    #         [R1,R2,R3,r1,r2,r3,violation] = checkViolation(p1(M1,M2,M3),p2(M1,M2,M3),p3(M1,M2,M3),p4(M1,M2,M3),T1(M1,M2,M3),\n",
    "    #                                                     T1F(M1,M2,M3),T2(M1,M2,M3),T2F(M1,M2,M3),TR(M1,M2,M3),T3(M1,M2,M3),pR(M1,M2,M3))\n",
    "    #         #add violation\n",
    "    #         df.loc[index,'R1'],df.loc[index,'R2'],df.loc[index,'R3'] = R1,R2,R3\n",
    "    #         df.loc[index,'r1'],df.loc[index,'r2'],df.loc[index,'r3'] = r1,r2,r3\n",
    "    #         df.loc[index,'V'] = violation\n",
    "    \n",
    "    # file = 'output_with_violation.csv'\n",
    "    # df.to_csv(file, index=False)\n",
    "    # print('saved in ',file)\n",
    "    # return df"
   ]
  },
  {
   "cell_type": "markdown",
   "id": "1395123f",
   "metadata": {},
   "source": [
    "### Set up problem"
   ]
  },
  {
   "cell_type": "code",
   "execution_count": null,
   "id": "5bfbedd0",
   "metadata": {},
   "outputs": [],
   "source": [
    "#============ SET UP PROBLEM\n",
    "# Req. bounds\n",
    "R1_bound = 0.6; R2_bound = 100; R3_bound = 0.35 # % violated\n",
    "\n",
    "\n",
    "#M1 value\n",
    "minM1=0.5; maxM1= 1; M =20\n",
    "#M2\n",
    "minM2=0.25; maxM2=0.5; smoothN=20\n",
    "#M3\n",
    "minM3=0.5; maxM3=1; L=20\n",
    "#fun\n",
    "p1 = lambda M1,M2,M3: 0.2018 +  0.8191 * M1\n",
    "p2 = lambda M1,M2,M3: 0.414 + 0.4612 * M1\n",
    "p3 = lambda M1,M2,M3: 0.1\n",
    "p4 = lambda M1,M2,M3: -0.1618+ (1.2523 * M3)\n",
    "pR = lambda M1,M2,M3: 0.8\n",
    "T1 = lambda M1,M2,M3: 0     \n",
    "T2 = lambda M1,M2,M3: 19.765 + (15.627 * M1)\n",
    "T3 = lambda M1,M2,M3: 63.15                          \n",
    "T1F= lambda M1,M2,M3: 0\n",
    "T2F= lambda M1,M2,M3: 7.343 + ( 72.234 * M1) + (161.485 * M2) - (231.337 * M1*M2)\n",
    "TR = lambda M1,M2,M3: 6.498 - (5.482 * M1) - (6.855 * M3) + (8.301 * M1*M3)\n",
    "\n",
    "\n",
    "# boundary (max min values of requirements values)\n",
    "bound_epsilon = 0.001\n",
    "# boundary expressions\n",
    "R1_boundary = lambda R1_value: (R1_bound + bound_epsilon >= R1_value) & (R1_value >= R1_bound)\n",
    "R2_boundary = lambda R1_value: R1_value == R1_bound\n",
    "R3_boundary = lambda R1_value: R1_value == R1_bound\n",
    "\n",
    "\n",
    "#edge (out of ODD)\n",
    "M1_edge = lambda M1_value: M1_value>= maxM1 or M1_value<=minM1\n",
    "M2_edge = lambda M2_value: M2_value>= maxM1 or M2_value<=minM1\n",
    "M3_edge = lambda M3_value: M3_value>= maxM1 or M3_value<=minM1\n",
    "\n",
    "\n",
    "\n",
    "#file\n",
    "hist_file = \"./output_julie.csv\"\n"
   ]
  },
  {
   "cell_type": "markdown",
   "id": "6474cfe6",
   "metadata": {},
   "source": [
    "### Run"
   ]
  },
  {
   "cell_type": "code",
   "execution_count": null,
   "id": "889652c5",
   "metadata": {},
   "outputs": [
    {
     "name": "stdout",
     "output_type": "stream",
     "text": [
      "saved in  output_with_violation.csv\n",
      " Total data points: 216.\n",
      " Total data points in violation: 168.0.\n",
      " Percentage in violation: 77.77777777777779%.\n"
     ]
    },
    {
     "data": {
      "application/vnd.plotly.v1+json": {
       "config": {
        "plotlyServerURL": "https://plot.ly"
       },
       "data": [
        {
         "marker": {
          "color": [
           1,
           1,
           1,
           0,
           1,
           1,
           1,
           1,
           1,
           1,
           1,
           1,
           0,
           1,
           1,
           1,
           0,
           1,
           1,
           1,
           1,
           1,
           0,
           1,
           0,
           1,
           1,
           1,
           1,
           1,
           1,
           1,
           1,
           0,
           1,
           1,
           1,
           1,
           1,
           1,
           1,
           1,
           0,
           0,
           1,
           1,
           1,
           1,
           0,
           1,
           0,
           0,
           1,
           1,
           1,
           1,
           1,
           1,
           1,
           1,
           1,
           1,
           1,
           1,
           1,
           0,
           1,
           1,
           1,
           1,
           1,
           1,
           1,
           1,
           1,
           1,
           0,
           1,
           1,
           1,
           0,
           0,
           1,
           0,
           1,
           1,
           0,
           0,
           1,
           1,
           0,
           0,
           1,
           1,
           1,
           1,
           0,
           0,
           1,
           1,
           0,
           0,
           1,
           1,
           1,
           0,
           1,
           1,
           1,
           0,
           1,
           1,
           1,
           1,
           1,
           1,
           1,
           0,
           1,
           1,
           1,
           1,
           1,
           1,
           1,
           1,
           1,
           1,
           1,
           1,
           1,
           0,
           0,
           0,
           1,
           1,
           1,
           0,
           1,
           0,
           0,
           1,
           0,
           1,
           1,
           1,
           1,
           0,
           1,
           0,
           1,
           1,
           1,
           1,
           0,
           1,
           1,
           1,
           1,
           1,
           1,
           0,
           0,
           0,
           1,
           0,
           1,
           1,
           1,
           1,
           1,
           1,
           1,
           1,
           0,
           1,
           1,
           1,
           1,
           0,
           1,
           1,
           1,
           1,
           1,
           0,
           1,
           1,
           1,
           1,
           1,
           1,
           0,
           1,
           1,
           1,
           1,
           0,
           1,
           1,
           1,
           1,
           0,
           1,
           1,
           1,
           1,
           1,
           1,
           1,
           0,
           1,
           1,
           1,
           1,
           1
          ],
          "colorbar": {
           "title": {
            "text": "Violation"
           }
          },
          "colorscale": [
           [
            0,
            "#0d0887"
           ],
           [
            0.1111111111111111,
            "#46039f"
           ],
           [
            0.2222222222222222,
            "#7201a8"
           ],
           [
            0.3333333333333333,
            "#9c179e"
           ],
           [
            0.4444444444444444,
            "#bd3786"
           ],
           [
            0.5555555555555556,
            "#d8576b"
           ],
           [
            0.6666666666666666,
            "#ed7953"
           ],
           [
            0.7777777777777778,
            "#fb9f3a"
           ],
           [
            0.8888888888888888,
            "#fdca26"
           ],
           [
            1,
            "#f0f921"
           ]
          ],
          "opacity": 0.8,
          "size": 5
         },
         "mode": "markers",
         "type": "scatter3d",
         "x": [
          1,
          0.8,
          0.5,
          0.9,
          0.8,
          0.7,
          0.9,
          0.7,
          0.6,
          0.5,
          0.6,
          0.6,
          0.8,
          0.7,
          1,
          0.8,
          0.9,
          0.5,
          1,
          0.5,
          0.5,
          0.7,
          0.9,
          0.5,
          0.9,
          1,
          1,
          0.5,
          0.5,
          1,
          0.7,
          0.5,
          0.6,
          0.9,
          0.9,
          1,
          0.5,
          0.7,
          0.8,
          0.7,
          1,
          0.6,
          0.9,
          0.7,
          0.7,
          0.6,
          1,
          0.5,
          0.9,
          0.8,
          0.9,
          0.7,
          1,
          0.7,
          0.6,
          0.5,
          0.8,
          0.9,
          0.6,
          1,
          0.6,
          0.5,
          0.7,
          0.5,
          0.5,
          0.9,
          0.7,
          0.5,
          0.7,
          0.7,
          0.7,
          0.5,
          0.8,
          0.5,
          0.7,
          0.9,
          0.9,
          1,
          0.7,
          1,
          0.7,
          0.8,
          0.8,
          0.9,
          0.8,
          0.5,
          0.7,
          0.8,
          0.6,
          0.6,
          0.8,
          0.9,
          1,
          1,
          1,
          0.8,
          0.8,
          0.8,
          1,
          0.7,
          0.9,
          0.8,
          1,
          0.7,
          0.9,
          0.9,
          0.6,
          1,
          0.5,
          0.9,
          0.9,
          0.9,
          0.6,
          0.6,
          0.6,
          1,
          0.6,
          0.7,
          0.7,
          0.6,
          1,
          0.6,
          0.8,
          0.7,
          0.5,
          0.7,
          0.7,
          0.9,
          0.7,
          0.5,
          0.6,
          0.8,
          0.9,
          0.9,
          0.6,
          0.7,
          1,
          0.7,
          1,
          0.8,
          0.9,
          0.6,
          0.9,
          1,
          0.5,
          1,
          0.6,
          0.8,
          0.5,
          0.8,
          0.6,
          0.7,
          0.6,
          0.7,
          0.9,
          0.5,
          0.8,
          1,
          1,
          0.6,
          0.5,
          0.8,
          0.9,
          0.9,
          1,
          0.8,
          0.5,
          1,
          0.9,
          0.5,
          0.5,
          0.7,
          0.5,
          1,
          0.8,
          0.6,
          0.8,
          0.5,
          0.5,
          0.8,
          1,
          0.8,
          0.7,
          0.6,
          0.7,
          0.8,
          0.6,
          1,
          0.6,
          0.6,
          1,
          0.5,
          0.8,
          0.9,
          0.5,
          0.5,
          1,
          0.8,
          0.5,
          0.6,
          0.6,
          0.6,
          0.9,
          0.7,
          0.8,
          1,
          0.6,
          0.8,
          0.9,
          0.8,
          0.9,
          0.9,
          0.6,
          0.6,
          0.8,
          1
         ],
         "y": [
          0.5,
          0.5,
          0.3,
          0.5,
          0.45,
          0.25,
          0.3,
          0.3,
          0.45,
          0.45,
          0.3,
          0.35,
          0.35,
          0.45,
          0.25,
          0.4,
          0.45,
          0.45,
          0.25,
          0.25,
          0.5,
          0.35,
          0.45,
          0.5,
          0.45,
          0.4,
          0.5,
          0.3,
          0.45,
          0.5,
          0.45,
          0.35,
          0.5,
          0.5,
          0.45,
          0.35,
          0.4,
          0.25,
          0.5,
          0.5,
          0.3,
          0.4,
          0.45,
          0.5,
          0.3,
          0.25,
          0.45,
          0.35,
          0.35,
          0.25,
          0.5,
          0.25,
          0.3,
          0.5,
          0.35,
          0.25,
          0.3,
          0.35,
          0.45,
          0.5,
          0.35,
          0.35,
          0.25,
          0.45,
          0.5,
          0.25,
          0.3,
          0.35,
          0.25,
          0.45,
          0.4,
          0.35,
          0.3,
          0.3,
          0.3,
          0.25,
          0.35,
          0.5,
          0.35,
          0.25,
          0.45,
          0.45,
          0.45,
          0.35,
          0.35,
          0.45,
          0.35,
          0.35,
          0.4,
          0.25,
          0.4,
          0.25,
          0.45,
          0.3,
          0.3,
          0.35,
          0.25,
          0.5,
          0.4,
          0.4,
          0.3,
          0.3,
          0.3,
          0.5,
          0.5,
          0.4,
          0.25,
          0.25,
          0.45,
          0.4,
          0.3,
          0.5,
          0.5,
          0.5,
          0.25,
          0.45,
          0.45,
          0.3,
          0.25,
          0.5,
          0.35,
          0.4,
          0.35,
          0.5,
          0.4,
          0.35,
          0.4,
          0.4,
          0.45,
          0.5,
          0.3,
          0.45,
          0.3,
          0.25,
          0.25,
          0.5,
          0.4,
          0.4,
          0.35,
          0.35,
          0.5,
          0.3,
          0.4,
          0.45,
          0.25,
          0.5,
          0.45,
          0.25,
          0.5,
          0.3,
          0.4,
          0.4,
          0.5,
          0.45,
          0.25,
          0.4,
          0.4,
          0.4,
          0.25,
          0.3,
          0.3,
          0.5,
          0.35,
          0.3,
          0.3,
          0.4,
          0.4,
          0.25,
          0.45,
          0.25,
          0.4,
          0.35,
          0.3,
          0.45,
          0.5,
          0.35,
          0.25,
          0.35,
          0.25,
          0.25,
          0.35,
          0.5,
          0.35,
          0.35,
          0.4,
          0.45,
          0.45,
          0.35,
          0.3,
          0.3,
          0.35,
          0.25,
          0.3,
          0.35,
          0.4,
          0.5,
          0.45,
          0.4,
          0.3,
          0.5,
          0.4,
          0.25,
          0.3,
          0.3,
          0.25,
          0.4,
          0.45,
          0.4,
          0.4,
          0.3,
          0.4,
          0.25,
          0.35,
          0.4,
          0.45,
          0.4
         ],
         "z": [
          0.5,
          0.5,
          0.9,
          0.7,
          0.6,
          0.8,
          0.6,
          0.6,
          0.6,
          0.8,
          0.5,
          0.9,
          1,
          0.8,
          1,
          0.6,
          0.8,
          0.5,
          0.6,
          0.9,
          0.6,
          0.7,
          0.9,
          1,
          0.7,
          1,
          1,
          0.7,
          1,
          0.7,
          0.9,
          0.7,
          0.9,
          0.9,
          0.6,
          0.5,
          0.5,
          0.6,
          0.7,
          0.9,
          1,
          0.6,
          1,
          1,
          0.9,
          0.6,
          1,
          1,
          0.9,
          0.6,
          0.8,
          1,
          0.5,
          0.7,
          0.7,
          0.6,
          0.6,
          0.5,
          0.9,
          0.9,
          0.8,
          0.6,
          0.9,
          0.7,
          0.5,
          1,
          0.7,
          0.5,
          0.5,
          0.7,
          0.7,
          0.9,
          0.7,
          0.8,
          0.8,
          0.6,
          0.7,
          0.6,
          0.9,
          0.9,
          1,
          1,
          0.5,
          0.8,
          0.6,
          0.6,
          1,
          0.9,
          0.5,
          0.7,
          0.8,
          0.7,
          0.5,
          0.7,
          0.9,
          0.5,
          1,
          1,
          0.7,
          0.5,
          0.7,
          0.9,
          0.8,
          0.8,
          0.6,
          0.8,
          0.5,
          0.8,
          0.9,
          1,
          0.5,
          0.5,
          0.6,
          0.5,
          0.9,
          0.9,
          0.8,
          1,
          0.7,
          0.8,
          0.8,
          0.8,
          0.7,
          0.5,
          0.7,
          0.6,
          0.8,
          0.5,
          0.6,
          0.8,
          0.6,
          0.8,
          0.8,
          0.9,
          0.8,
          0.6,
          0.8,
          1,
          0.6,
          0.8,
          1,
          0.9,
          0.7,
          0.8,
          0.7,
          0.8,
          1,
          0.9,
          0.7,
          1,
          0.9,
          0.6,
          1,
          0.5,
          0.8,
          0.8,
          0.5,
          0.6,
          0.5,
          1,
          0.5,
          0.9,
          1,
          1,
          0.6,
          0.9,
          0.6,
          0.7,
          0.5,
          0.5,
          0.9,
          0.8,
          1,
          0.6,
          0.8,
          0.6,
          0.7,
          0.8,
          0.8,
          0.8,
          0.7,
          0.6,
          0.5,
          1,
          0.9,
          0.9,
          0.7,
          1,
          0.8,
          0.7,
          0.9,
          1,
          0.8,
          0.6,
          1,
          0.9,
          0.7,
          1,
          0.6,
          0.7,
          1,
          1,
          0.9,
          0.5,
          0.5,
          0.5,
          0.5,
          0.7,
          0.6,
          0.5,
          0.9,
          0.5,
          0.5,
          0.7,
          0.7,
          0.9
         ]
        }
       ],
       "layout": {
        "scene": {
         "xaxis": {
          "title": {
           "text": "Init Light value"
          }
         },
         "yaxis": {
          "title": {
           "text": "Init Floor friction"
          }
         },
         "zaxis": {
          "title": {
           "text": "Init Object friction"
          }
         }
        },
        "template": {
         "data": {
          "bar": [
           {
            "error_x": {
             "color": "#2a3f5f"
            },
            "error_y": {
             "color": "#2a3f5f"
            },
            "marker": {
             "line": {
              "color": "#E5ECF6",
              "width": 0.5
             },
             "pattern": {
              "fillmode": "overlay",
              "size": 10,
              "solidity": 0.2
             }
            },
            "type": "bar"
           }
          ],
          "barpolar": [
           {
            "marker": {
             "line": {
              "color": "#E5ECF6",
              "width": 0.5
             },
             "pattern": {
              "fillmode": "overlay",
              "size": 10,
              "solidity": 0.2
             }
            },
            "type": "barpolar"
           }
          ],
          "carpet": [
           {
            "aaxis": {
             "endlinecolor": "#2a3f5f",
             "gridcolor": "white",
             "linecolor": "white",
             "minorgridcolor": "white",
             "startlinecolor": "#2a3f5f"
            },
            "baxis": {
             "endlinecolor": "#2a3f5f",
             "gridcolor": "white",
             "linecolor": "white",
             "minorgridcolor": "white",
             "startlinecolor": "#2a3f5f"
            },
            "type": "carpet"
           }
          ],
          "choropleth": [
           {
            "colorbar": {
             "outlinewidth": 0,
             "ticks": ""
            },
            "type": "choropleth"
           }
          ],
          "contour": [
           {
            "colorbar": {
             "outlinewidth": 0,
             "ticks": ""
            },
            "colorscale": [
             [
              0,
              "#0d0887"
             ],
             [
              0.1111111111111111,
              "#46039f"
             ],
             [
              0.2222222222222222,
              "#7201a8"
             ],
             [
              0.3333333333333333,
              "#9c179e"
             ],
             [
              0.4444444444444444,
              "#bd3786"
             ],
             [
              0.5555555555555556,
              "#d8576b"
             ],
             [
              0.6666666666666666,
              "#ed7953"
             ],
             [
              0.7777777777777778,
              "#fb9f3a"
             ],
             [
              0.8888888888888888,
              "#fdca26"
             ],
             [
              1,
              "#f0f921"
             ]
            ],
            "type": "contour"
           }
          ],
          "contourcarpet": [
           {
            "colorbar": {
             "outlinewidth": 0,
             "ticks": ""
            },
            "type": "contourcarpet"
           }
          ],
          "heatmap": [
           {
            "colorbar": {
             "outlinewidth": 0,
             "ticks": ""
            },
            "colorscale": [
             [
              0,
              "#0d0887"
             ],
             [
              0.1111111111111111,
              "#46039f"
             ],
             [
              0.2222222222222222,
              "#7201a8"
             ],
             [
              0.3333333333333333,
              "#9c179e"
             ],
             [
              0.4444444444444444,
              "#bd3786"
             ],
             [
              0.5555555555555556,
              "#d8576b"
             ],
             [
              0.6666666666666666,
              "#ed7953"
             ],
             [
              0.7777777777777778,
              "#fb9f3a"
             ],
             [
              0.8888888888888888,
              "#fdca26"
             ],
             [
              1,
              "#f0f921"
             ]
            ],
            "type": "heatmap"
           }
          ],
          "heatmapgl": [
           {
            "colorbar": {
             "outlinewidth": 0,
             "ticks": ""
            },
            "colorscale": [
             [
              0,
              "#0d0887"
             ],
             [
              0.1111111111111111,
              "#46039f"
             ],
             [
              0.2222222222222222,
              "#7201a8"
             ],
             [
              0.3333333333333333,
              "#9c179e"
             ],
             [
              0.4444444444444444,
              "#bd3786"
             ],
             [
              0.5555555555555556,
              "#d8576b"
             ],
             [
              0.6666666666666666,
              "#ed7953"
             ],
             [
              0.7777777777777778,
              "#fb9f3a"
             ],
             [
              0.8888888888888888,
              "#fdca26"
             ],
             [
              1,
              "#f0f921"
             ]
            ],
            "type": "heatmapgl"
           }
          ],
          "histogram": [
           {
            "marker": {
             "pattern": {
              "fillmode": "overlay",
              "size": 10,
              "solidity": 0.2
             }
            },
            "type": "histogram"
           }
          ],
          "histogram2d": [
           {
            "colorbar": {
             "outlinewidth": 0,
             "ticks": ""
            },
            "colorscale": [
             [
              0,
              "#0d0887"
             ],
             [
              0.1111111111111111,
              "#46039f"
             ],
             [
              0.2222222222222222,
              "#7201a8"
             ],
             [
              0.3333333333333333,
              "#9c179e"
             ],
             [
              0.4444444444444444,
              "#bd3786"
             ],
             [
              0.5555555555555556,
              "#d8576b"
             ],
             [
              0.6666666666666666,
              "#ed7953"
             ],
             [
              0.7777777777777778,
              "#fb9f3a"
             ],
             [
              0.8888888888888888,
              "#fdca26"
             ],
             [
              1,
              "#f0f921"
             ]
            ],
            "type": "histogram2d"
           }
          ],
          "histogram2dcontour": [
           {
            "colorbar": {
             "outlinewidth": 0,
             "ticks": ""
            },
            "colorscale": [
             [
              0,
              "#0d0887"
             ],
             [
              0.1111111111111111,
              "#46039f"
             ],
             [
              0.2222222222222222,
              "#7201a8"
             ],
             [
              0.3333333333333333,
              "#9c179e"
             ],
             [
              0.4444444444444444,
              "#bd3786"
             ],
             [
              0.5555555555555556,
              "#d8576b"
             ],
             [
              0.6666666666666666,
              "#ed7953"
             ],
             [
              0.7777777777777778,
              "#fb9f3a"
             ],
             [
              0.8888888888888888,
              "#fdca26"
             ],
             [
              1,
              "#f0f921"
             ]
            ],
            "type": "histogram2dcontour"
           }
          ],
          "mesh3d": [
           {
            "colorbar": {
             "outlinewidth": 0,
             "ticks": ""
            },
            "type": "mesh3d"
           }
          ],
          "parcoords": [
           {
            "line": {
             "colorbar": {
              "outlinewidth": 0,
              "ticks": ""
             }
            },
            "type": "parcoords"
           }
          ],
          "pie": [
           {
            "automargin": true,
            "type": "pie"
           }
          ],
          "scatter": [
           {
            "fillpattern": {
             "fillmode": "overlay",
             "size": 10,
             "solidity": 0.2
            },
            "type": "scatter"
           }
          ],
          "scatter3d": [
           {
            "line": {
             "colorbar": {
              "outlinewidth": 0,
              "ticks": ""
             }
            },
            "marker": {
             "colorbar": {
              "outlinewidth": 0,
              "ticks": ""
             }
            },
            "type": "scatter3d"
           }
          ],
          "scattercarpet": [
           {
            "marker": {
             "colorbar": {
              "outlinewidth": 0,
              "ticks": ""
             }
            },
            "type": "scattercarpet"
           }
          ],
          "scattergeo": [
           {
            "marker": {
             "colorbar": {
              "outlinewidth": 0,
              "ticks": ""
             }
            },
            "type": "scattergeo"
           }
          ],
          "scattergl": [
           {
            "marker": {
             "colorbar": {
              "outlinewidth": 0,
              "ticks": ""
             }
            },
            "type": "scattergl"
           }
          ],
          "scattermapbox": [
           {
            "marker": {
             "colorbar": {
              "outlinewidth": 0,
              "ticks": ""
             }
            },
            "type": "scattermapbox"
           }
          ],
          "scatterpolar": [
           {
            "marker": {
             "colorbar": {
              "outlinewidth": 0,
              "ticks": ""
             }
            },
            "type": "scatterpolar"
           }
          ],
          "scatterpolargl": [
           {
            "marker": {
             "colorbar": {
              "outlinewidth": 0,
              "ticks": ""
             }
            },
            "type": "scatterpolargl"
           }
          ],
          "scatterternary": [
           {
            "marker": {
             "colorbar": {
              "outlinewidth": 0,
              "ticks": ""
             }
            },
            "type": "scatterternary"
           }
          ],
          "surface": [
           {
            "colorbar": {
             "outlinewidth": 0,
             "ticks": ""
            },
            "colorscale": [
             [
              0,
              "#0d0887"
             ],
             [
              0.1111111111111111,
              "#46039f"
             ],
             [
              0.2222222222222222,
              "#7201a8"
             ],
             [
              0.3333333333333333,
              "#9c179e"
             ],
             [
              0.4444444444444444,
              "#bd3786"
             ],
             [
              0.5555555555555556,
              "#d8576b"
             ],
             [
              0.6666666666666666,
              "#ed7953"
             ],
             [
              0.7777777777777778,
              "#fb9f3a"
             ],
             [
              0.8888888888888888,
              "#fdca26"
             ],
             [
              1,
              "#f0f921"
             ]
            ],
            "type": "surface"
           }
          ],
          "table": [
           {
            "cells": {
             "fill": {
              "color": "#EBF0F8"
             },
             "line": {
              "color": "white"
             }
            },
            "header": {
             "fill": {
              "color": "#C8D4E3"
             },
             "line": {
              "color": "white"
             }
            },
            "type": "table"
           }
          ]
         },
         "layout": {
          "annotationdefaults": {
           "arrowcolor": "#2a3f5f",
           "arrowhead": 0,
           "arrowwidth": 1
          },
          "autotypenumbers": "strict",
          "coloraxis": {
           "colorbar": {
            "outlinewidth": 0,
            "ticks": ""
           }
          },
          "colorscale": {
           "diverging": [
            [
             0,
             "#8e0152"
            ],
            [
             0.1,
             "#c51b7d"
            ],
            [
             0.2,
             "#de77ae"
            ],
            [
             0.3,
             "#f1b6da"
            ],
            [
             0.4,
             "#fde0ef"
            ],
            [
             0.5,
             "#f7f7f7"
            ],
            [
             0.6,
             "#e6f5d0"
            ],
            [
             0.7,
             "#b8e186"
            ],
            [
             0.8,
             "#7fbc41"
            ],
            [
             0.9,
             "#4d9221"
            ],
            [
             1,
             "#276419"
            ]
           ],
           "sequential": [
            [
             0,
             "#0d0887"
            ],
            [
             0.1111111111111111,
             "#46039f"
            ],
            [
             0.2222222222222222,
             "#7201a8"
            ],
            [
             0.3333333333333333,
             "#9c179e"
            ],
            [
             0.4444444444444444,
             "#bd3786"
            ],
            [
             0.5555555555555556,
             "#d8576b"
            ],
            [
             0.6666666666666666,
             "#ed7953"
            ],
            [
             0.7777777777777778,
             "#fb9f3a"
            ],
            [
             0.8888888888888888,
             "#fdca26"
            ],
            [
             1,
             "#f0f921"
            ]
           ],
           "sequentialminus": [
            [
             0,
             "#0d0887"
            ],
            [
             0.1111111111111111,
             "#46039f"
            ],
            [
             0.2222222222222222,
             "#7201a8"
            ],
            [
             0.3333333333333333,
             "#9c179e"
            ],
            [
             0.4444444444444444,
             "#bd3786"
            ],
            [
             0.5555555555555556,
             "#d8576b"
            ],
            [
             0.6666666666666666,
             "#ed7953"
            ],
            [
             0.7777777777777778,
             "#fb9f3a"
            ],
            [
             0.8888888888888888,
             "#fdca26"
            ],
            [
             1,
             "#f0f921"
            ]
           ]
          },
          "colorway": [
           "#636efa",
           "#EF553B",
           "#00cc96",
           "#ab63fa",
           "#FFA15A",
           "#19d3f3",
           "#FF6692",
           "#B6E880",
           "#FF97FF",
           "#FECB52"
          ],
          "font": {
           "color": "#2a3f5f"
          },
          "geo": {
           "bgcolor": "white",
           "lakecolor": "white",
           "landcolor": "#E5ECF6",
           "showlakes": true,
           "showland": true,
           "subunitcolor": "white"
          },
          "hoverlabel": {
           "align": "left"
          },
          "hovermode": "closest",
          "mapbox": {
           "style": "light"
          },
          "paper_bgcolor": "white",
          "plot_bgcolor": "#E5ECF6",
          "polar": {
           "angularaxis": {
            "gridcolor": "white",
            "linecolor": "white",
            "ticks": ""
           },
           "bgcolor": "#E5ECF6",
           "radialaxis": {
            "gridcolor": "white",
            "linecolor": "white",
            "ticks": ""
           }
          },
          "scene": {
           "xaxis": {
            "backgroundcolor": "#E5ECF6",
            "gridcolor": "white",
            "gridwidth": 2,
            "linecolor": "white",
            "showbackground": true,
            "ticks": "",
            "zerolinecolor": "white"
           },
           "yaxis": {
            "backgroundcolor": "#E5ECF6",
            "gridcolor": "white",
            "gridwidth": 2,
            "linecolor": "white",
            "showbackground": true,
            "ticks": "",
            "zerolinecolor": "white"
           },
           "zaxis": {
            "backgroundcolor": "#E5ECF6",
            "gridcolor": "white",
            "gridwidth": 2,
            "linecolor": "white",
            "showbackground": true,
            "ticks": "",
            "zerolinecolor": "white"
           }
          },
          "shapedefaults": {
           "line": {
            "color": "#2a3f5f"
           }
          },
          "ternary": {
           "aaxis": {
            "gridcolor": "white",
            "linecolor": "white",
            "ticks": ""
           },
           "baxis": {
            "gridcolor": "white",
            "linecolor": "white",
            "ticks": ""
           },
           "bgcolor": "#E5ECF6",
           "caxis": {
            "gridcolor": "white",
            "linecolor": "white",
            "ticks": ""
           }
          },
          "title": {
           "x": 0.05
          },
          "xaxis": {
           "automargin": true,
           "gridcolor": "white",
           "linecolor": "white",
           "ticks": "",
           "title": {
            "standoff": 15
           },
           "zerolinecolor": "white",
           "zerolinewidth": 2
          },
          "yaxis": {
           "automargin": true,
           "gridcolor": "white",
           "linecolor": "white",
           "ticks": "",
           "title": {
            "standoff": 15
           },
           "zerolinecolor": "white",
           "zerolinewidth": 2
          }
         }
        },
        "title": {
         "text": "M1, M2, M3 and violation over Time"
        }
       }
      }
     },
     "metadata": {},
     "output_type": "display_data"
    }
   ],
   "source": [
    "#=============== RUN\n",
    "df= read_csv(hist_file)\n",
    "df = addViolation_lookupTable(df)\n",
    "print_results_violation(df)\n",
    "\n",
    "# Plot\n",
    "plot3D_violation_lookupTable(df,'M1, M2, M3 and violation over Time')"
   ]
  },
  {
   "cell_type": "markdown",
   "id": "65889bba",
   "metadata": {},
   "source": [
    "In the last figure, the floor friction does not affect the violation. This is a problem as we would like all M1,M2,M3 to have an effect on the violation of requirements.\n",
    "\n",
    "There is also some weird violations happening when light= 1. Intuitivelly, more light should result in lower violations...\n",
    "\n"
   ]
  },
  {
   "cell_type": "code",
   "execution_count": null,
   "id": "8337b404",
   "metadata": {},
   "outputs": [
    {
     "data": {
      "text/html": [
       "<div>\n",
       "<style scoped>\n",
       "    .dataframe tbody tr th:only-of-type {\n",
       "        vertical-align: middle;\n",
       "    }\n",
       "\n",
       "    .dataframe tbody tr th {\n",
       "        vertical-align: top;\n",
       "    }\n",
       "\n",
       "    .dataframe thead th {\n",
       "        text-align: right;\n",
       "    }\n",
       "</style>\n",
       "<table border=\"1\" class=\"dataframe\">\n",
       "  <thead>\n",
       "    <tr style=\"text-align: right;\">\n",
       "      <th></th>\n",
       "      <th>M1</th>\n",
       "      <th>M2</th>\n",
       "      <th>M3</th>\n",
       "      <th>P1</th>\n",
       "      <th>T1</th>\n",
       "      <th>T1F</th>\n",
       "      <th>P2</th>\n",
       "      <th>P3</th>\n",
       "      <th>T2</th>\n",
       "      <th>TR</th>\n",
       "      <th>T2F</th>\n",
       "      <th>P4</th>\n",
       "      <th>T3</th>\n",
       "      <th>R1</th>\n",
       "      <th>R2</th>\n",
       "      <th>R3</th>\n",
       "      <th>r1</th>\n",
       "      <th>r2</th>\n",
       "      <th>r3</th>\n",
       "      <th>V</th>\n",
       "    </tr>\n",
       "  </thead>\n",
       "  <tbody>\n",
       "    <tr>\n",
       "      <th>0</th>\n",
       "      <td>1.0</td>\n",
       "      <td>0.50</td>\n",
       "      <td>0.5</td>\n",
       "      <td>1.0</td>\n",
       "      <td>6.2</td>\n",
       "      <td>NaN</td>\n",
       "      <td>0.8</td>\n",
       "      <td>0.0</td>\n",
       "      <td>35.599998</td>\n",
       "      <td>NaN</td>\n",
       "      <td>NaN</td>\n",
       "      <td>0.00</td>\n",
       "      <td>52.250000</td>\n",
       "      <td>0.450971</td>\n",
       "      <td>101.785838</td>\n",
       "      <td>0.520216</td>\n",
       "      <td>1.0</td>\n",
       "      <td>1.0</td>\n",
       "      <td>1.0</td>\n",
       "      <td>1.0</td>\n",
       "    </tr>\n",
       "    <tr>\n",
       "      <th>1</th>\n",
       "      <td>0.8</td>\n",
       "      <td>0.50</td>\n",
       "      <td>0.5</td>\n",
       "      <td>1.0</td>\n",
       "      <td>6.2</td>\n",
       "      <td>NaN</td>\n",
       "      <td>1.0</td>\n",
       "      <td>0.0</td>\n",
       "      <td>35.599998</td>\n",
       "      <td>NaN</td>\n",
       "      <td>NaN</td>\n",
       "      <td>0.00</td>\n",
       "      <td>57.000000</td>\n",
       "      <td>0.338703</td>\n",
       "      <td>78.234708</td>\n",
       "      <td>0.390710</td>\n",
       "      <td>1.0</td>\n",
       "      <td>0.0</td>\n",
       "      <td>1.0</td>\n",
       "      <td>1.0</td>\n",
       "    </tr>\n",
       "    <tr>\n",
       "      <th>2</th>\n",
       "      <td>0.5</td>\n",
       "      <td>0.30</td>\n",
       "      <td>0.9</td>\n",
       "      <td>0.2</td>\n",
       "      <td>8.0</td>\n",
       "      <td>49.0</td>\n",
       "      <td>1.0</td>\n",
       "      <td>0.0</td>\n",
       "      <td>29.000000</td>\n",
       "      <td>NaN</td>\n",
       "      <td>NaN</td>\n",
       "      <td>1.00</td>\n",
       "      <td>60.000000</td>\n",
       "      <td>0.413467</td>\n",
       "      <td>47.415157</td>\n",
       "      <td>0.014876</td>\n",
       "      <td>1.0</td>\n",
       "      <td>0.0</td>\n",
       "      <td>0.0</td>\n",
       "      <td>1.0</td>\n",
       "    </tr>\n",
       "    <tr>\n",
       "      <th>3</th>\n",
       "      <td>0.9</td>\n",
       "      <td>0.50</td>\n",
       "      <td>0.7</td>\n",
       "      <td>1.0</td>\n",
       "      <td>7.4</td>\n",
       "      <td>NaN</td>\n",
       "      <td>0.8</td>\n",
       "      <td>0.0</td>\n",
       "      <td>31.400000</td>\n",
       "      <td>NaN</td>\n",
       "      <td>NaN</td>\n",
       "      <td>1.00</td>\n",
       "      <td>53.500000</td>\n",
       "      <td>0.604867</td>\n",
       "      <td>89.675426</td>\n",
       "      <td>0.241326</td>\n",
       "      <td>0.0</td>\n",
       "      <td>0.0</td>\n",
       "      <td>0.0</td>\n",
       "      <td>0.0</td>\n",
       "    </tr>\n",
       "    <tr>\n",
       "      <th>4</th>\n",
       "      <td>0.8</td>\n",
       "      <td>0.45</td>\n",
       "      <td>0.6</td>\n",
       "      <td>1.0</td>\n",
       "      <td>7.4</td>\n",
       "      <td>NaN</td>\n",
       "      <td>1.0</td>\n",
       "      <td>0.0</td>\n",
       "      <td>30.600000</td>\n",
       "      <td>NaN</td>\n",
       "      <td>NaN</td>\n",
       "      <td>0.80</td>\n",
       "      <td>55.400002</td>\n",
       "      <td>0.430047</td>\n",
       "      <td>78.342969</td>\n",
       "      <td>0.299365</td>\n",
       "      <td>1.0</td>\n",
       "      <td>0.0</td>\n",
       "      <td>0.0</td>\n",
       "      <td>1.0</td>\n",
       "    </tr>\n",
       "    <tr>\n",
       "      <th>...</th>\n",
       "      <td>...</td>\n",
       "      <td>...</td>\n",
       "      <td>...</td>\n",
       "      <td>...</td>\n",
       "      <td>...</td>\n",
       "      <td>...</td>\n",
       "      <td>...</td>\n",
       "      <td>...</td>\n",
       "      <td>...</td>\n",
       "      <td>...</td>\n",
       "      <td>...</td>\n",
       "      <td>...</td>\n",
       "      <td>...</td>\n",
       "      <td>...</td>\n",
       "      <td>...</td>\n",
       "      <td>...</td>\n",
       "      <td>...</td>\n",
       "      <td>...</td>\n",
       "      <td>...</td>\n",
       "      <td>...</td>\n",
       "    </tr>\n",
       "    <tr>\n",
       "      <th>211</th>\n",
       "      <td>0.9</td>\n",
       "      <td>0.25</td>\n",
       "      <td>0.5</td>\n",
       "      <td>1.0</td>\n",
       "      <td>7.2</td>\n",
       "      <td>NaN</td>\n",
       "      <td>1.0</td>\n",
       "      <td>0.0</td>\n",
       "      <td>34.400002</td>\n",
       "      <td>NaN</td>\n",
       "      <td>NaN</td>\n",
       "      <td>0.00</td>\n",
       "      <td>72.599998</td>\n",
       "      <td>0.392930</td>\n",
       "      <td>90.857434</td>\n",
       "      <td>0.453263</td>\n",
       "      <td>1.0</td>\n",
       "      <td>0.0</td>\n",
       "      <td>1.0</td>\n",
       "      <td>1.0</td>\n",
       "    </tr>\n",
       "    <tr>\n",
       "      <th>212</th>\n",
       "      <td>0.6</td>\n",
       "      <td>0.35</td>\n",
       "      <td>0.5</td>\n",
       "      <td>1.0</td>\n",
       "      <td>6.2</td>\n",
       "      <td>NaN</td>\n",
       "      <td>1.0</td>\n",
       "      <td>0.0</td>\n",
       "      <td>38.599998</td>\n",
       "      <td>NaN</td>\n",
       "      <td>NaN</td>\n",
       "      <td>0.20</td>\n",
       "      <td>58.400002</td>\n",
       "      <td>0.241688</td>\n",
       "      <td>57.186425</td>\n",
       "      <td>0.278799</td>\n",
       "      <td>1.0</td>\n",
       "      <td>0.0</td>\n",
       "      <td>0.0</td>\n",
       "      <td>1.0</td>\n",
       "    </tr>\n",
       "    <tr>\n",
       "      <th>213</th>\n",
       "      <td>0.6</td>\n",
       "      <td>0.40</td>\n",
       "      <td>0.7</td>\n",
       "      <td>1.0</td>\n",
       "      <td>6.4</td>\n",
       "      <td>NaN</td>\n",
       "      <td>0.8</td>\n",
       "      <td>0.2</td>\n",
       "      <td>32.500000</td>\n",
       "      <td>NaN</td>\n",
       "      <td>58.0</td>\n",
       "      <td>0.75</td>\n",
       "      <td>58.000000</td>\n",
       "      <td>0.372050</td>\n",
       "      <td>57.249288</td>\n",
       "      <td>0.148438</td>\n",
       "      <td>1.0</td>\n",
       "      <td>0.0</td>\n",
       "      <td>0.0</td>\n",
       "      <td>1.0</td>\n",
       "    </tr>\n",
       "    <tr>\n",
       "      <th>214</th>\n",
       "      <td>0.8</td>\n",
       "      <td>0.45</td>\n",
       "      <td>0.7</td>\n",
       "      <td>1.0</td>\n",
       "      <td>6.6</td>\n",
       "      <td>NaN</td>\n",
       "      <td>0.8</td>\n",
       "      <td>0.0</td>\n",
       "      <td>36.000000</td>\n",
       "      <td>NaN</td>\n",
       "      <td>NaN</td>\n",
       "      <td>1.00</td>\n",
       "      <td>55.250000</td>\n",
       "      <td>0.521391</td>\n",
       "      <td>78.341373</td>\n",
       "      <td>0.208021</td>\n",
       "      <td>1.0</td>\n",
       "      <td>0.0</td>\n",
       "      <td>0.0</td>\n",
       "      <td>1.0</td>\n",
       "    </tr>\n",
       "    <tr>\n",
       "      <th>215</th>\n",
       "      <td>1.0</td>\n",
       "      <td>0.40</td>\n",
       "      <td>0.9</td>\n",
       "      <td>1.0</td>\n",
       "      <td>5.2</td>\n",
       "      <td>NaN</td>\n",
       "      <td>1.0</td>\n",
       "      <td>0.0</td>\n",
       "      <td>38.200001</td>\n",
       "      <td>NaN</td>\n",
       "      <td>NaN</td>\n",
       "      <td>1.00</td>\n",
       "      <td>57.599998</td>\n",
       "      <td>0.937457</td>\n",
       "      <td>102.612315</td>\n",
       "      <td>0.033729</td>\n",
       "      <td>0.0</td>\n",
       "      <td>1.0</td>\n",
       "      <td>0.0</td>\n",
       "      <td>1.0</td>\n",
       "    </tr>\n",
       "  </tbody>\n",
       "</table>\n",
       "<p>216 rows × 20 columns</p>\n",
       "</div>"
      ],
      "text/plain": [
       "      M1    M2   M3   P1   T1   T1F   P2   P3         T2  TR   T2F    P4  \\\n",
       "0    1.0  0.50  0.5  1.0  6.2   NaN  0.8  0.0  35.599998 NaN   NaN  0.00   \n",
       "1    0.8  0.50  0.5  1.0  6.2   NaN  1.0  0.0  35.599998 NaN   NaN  0.00   \n",
       "2    0.5  0.30  0.9  0.2  8.0  49.0  1.0  0.0  29.000000 NaN   NaN  1.00   \n",
       "3    0.9  0.50  0.7  1.0  7.4   NaN  0.8  0.0  31.400000 NaN   NaN  1.00   \n",
       "4    0.8  0.45  0.6  1.0  7.4   NaN  1.0  0.0  30.600000 NaN   NaN  0.80   \n",
       "..   ...   ...  ...  ...  ...   ...  ...  ...        ...  ..   ...   ...   \n",
       "211  0.9  0.25  0.5  1.0  7.2   NaN  1.0  0.0  34.400002 NaN   NaN  0.00   \n",
       "212  0.6  0.35  0.5  1.0  6.2   NaN  1.0  0.0  38.599998 NaN   NaN  0.20   \n",
       "213  0.6  0.40  0.7  1.0  6.4   NaN  0.8  0.2  32.500000 NaN  58.0  0.75   \n",
       "214  0.8  0.45  0.7  1.0  6.6   NaN  0.8  0.0  36.000000 NaN   NaN  1.00   \n",
       "215  1.0  0.40  0.9  1.0  5.2   NaN  1.0  0.0  38.200001 NaN   NaN  1.00   \n",
       "\n",
       "            T3        R1          R2        R3   r1   r2   r3    V  \n",
       "0    52.250000  0.450971  101.785838  0.520216  1.0  1.0  1.0  1.0  \n",
       "1    57.000000  0.338703   78.234708  0.390710  1.0  0.0  1.0  1.0  \n",
       "2    60.000000  0.413467   47.415157  0.014876  1.0  0.0  0.0  1.0  \n",
       "3    53.500000  0.604867   89.675426  0.241326  0.0  0.0  0.0  0.0  \n",
       "4    55.400002  0.430047   78.342969  0.299365  1.0  0.0  0.0  1.0  \n",
       "..         ...       ...         ...       ...  ...  ...  ...  ...  \n",
       "211  72.599998  0.392930   90.857434  0.453263  1.0  0.0  1.0  1.0  \n",
       "212  58.400002  0.241688   57.186425  0.278799  1.0  0.0  0.0  1.0  \n",
       "213  58.000000  0.372050   57.249288  0.148438  1.0  0.0  0.0  1.0  \n",
       "214  55.250000  0.521391   78.341373  0.208021  1.0  0.0  0.0  1.0  \n",
       "215  57.599998  0.937457  102.612315  0.033729  0.0  1.0  0.0  1.0  \n",
       "\n",
       "[216 rows x 20 columns]"
      ]
     },
     "execution_count": 9,
     "metadata": {},
     "output_type": "execute_result"
    }
   ],
   "source": [
    "df"
   ]
  },
  {
   "cell_type": "code",
   "execution_count": null,
   "id": "405dafec",
   "metadata": {},
   "outputs": [
    {
     "ename": "NameError",
     "evalue": "name 'df' is not defined",
     "output_type": "error",
     "traceback": [
      "\u001b[0;31m---------------------------------------------------------------------------\u001b[0m",
      "\u001b[0;31mNameError\u001b[0m                                 Traceback (most recent call last)",
      "\u001b[0;32m/var/folders/kp/zbb00z610431t7dw_xxf4fnw0000gn/T/ipykernel_31522/4016320121.py\u001b[0m in \u001b[0;36m<module>\u001b[0;34m\u001b[0m\n\u001b[0;32m----> 1\u001b[0;31m \u001b[0mdf\u001b[0m\u001b[0;34m[\u001b[0m\u001b[0mdf\u001b[0m\u001b[0;34m[\u001b[0m\u001b[0;34m'M1'\u001b[0m\u001b[0;34m]\u001b[0m\u001b[0;34m==\u001b[0m\u001b[0;36m1\u001b[0m\u001b[0;34m]\u001b[0m\u001b[0;34m\u001b[0m\u001b[0;34m\u001b[0m\u001b[0m\n\u001b[0m",
      "\u001b[0;31mNameError\u001b[0m: name 'df' is not defined"
     ]
    }
   ],
   "source": [
    "df[df['M1']==1]"
   ]
  },
  {
   "cell_type": "code",
   "execution_count": null,
   "id": "a31ab06e",
   "metadata": {},
   "outputs": [],
   "source": []
  }
 ],
 "metadata": {
  "kernelspec": {
   "display_name": "Python 3 (ipykernel)",
   "language": "python",
   "name": "python3"
  },
  "language_info": {
   "codemirror_mode": {
    "name": "ipython",
    "version": 3
   },
   "file_extension": ".py",
   "mimetype": "text/x-python",
   "name": "python",
   "nbconvert_exporter": "python",
   "pygments_lexer": "ipython3",
   "version": "3.9.13"
  }
 },
 "nbformat": 4,
 "nbformat_minor": 5
}

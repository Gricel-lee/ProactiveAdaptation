{
 "cells": [
  {
   "cell_type": "markdown",
   "id": "305644dd",
   "metadata": {},
   "source": [
    "## Steps\n",
    "#### 1) Get combinations of (M1,M2,M3) from \"historical data\" and their values of p1,p2...T1,T2...\n",
    "#### 2) "
   ]
  },
  {
   "cell_type": "code",
   "execution_count": null,
   "id": "40d351c6",
   "metadata": {},
   "outputs": [],
   "source": []
  }
 ],
 "metadata": {
  "kernelspec": {
   "display_name": "Python 3 (ipykernel)",
   "language": "python",
   "name": "python3"
  },
  "language_info": {
   "codemirror_mode": {
    "name": "ipython",
    "version": 3
   },
   "file_extension": ".py",
   "mimetype": "text/x-python",
   "name": "python",
   "nbconvert_exporter": "python",
   "pygments_lexer": "ipython3",
   "version": "3.9.13"
  }
 },
 "nbformat": 4,
 "nbformat_minor": 5
}
